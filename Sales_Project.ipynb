{
 "cells": [
  {
   "cell_type": "code",
   "execution_count": 38,
   "id": "1a6a99ba",
   "metadata": {},
   "outputs": [
    {
     "data": {
      "text/html": [
       "<div>\n",
       "<style scoped>\n",
       "    .dataframe tbody tr th:only-of-type {\n",
       "        vertical-align: middle;\n",
       "    }\n",
       "\n",
       "    .dataframe tbody tr th {\n",
       "        vertical-align: top;\n",
       "    }\n",
       "\n",
       "    .dataframe thead th {\n",
       "        text-align: right;\n",
       "    }\n",
       "</style>\n",
       "<table border=\"1\" class=\"dataframe\">\n",
       "  <thead>\n",
       "    <tr style=\"text-align: right;\">\n",
       "      <th></th>\n",
       "      <th>Date</th>\n",
       "      <th>Time</th>\n",
       "      <th>State</th>\n",
       "      <th>Group</th>\n",
       "      <th>Unit</th>\n",
       "      <th>Sales</th>\n",
       "    </tr>\n",
       "  </thead>\n",
       "  <tbody>\n",
       "    <tr>\n",
       "      <th>0</th>\n",
       "      <td>2020-10-01</td>\n",
       "      <td>Morning</td>\n",
       "      <td>WA</td>\n",
       "      <td>Kids</td>\n",
       "      <td>8</td>\n",
       "      <td>20000</td>\n",
       "    </tr>\n",
       "    <tr>\n",
       "      <th>1</th>\n",
       "      <td>2020-10-01</td>\n",
       "      <td>Morning</td>\n",
       "      <td>WA</td>\n",
       "      <td>Men</td>\n",
       "      <td>8</td>\n",
       "      <td>20000</td>\n",
       "    </tr>\n",
       "    <tr>\n",
       "      <th>2</th>\n",
       "      <td>2020-10-01</td>\n",
       "      <td>Morning</td>\n",
       "      <td>WA</td>\n",
       "      <td>Women</td>\n",
       "      <td>4</td>\n",
       "      <td>10000</td>\n",
       "    </tr>\n",
       "    <tr>\n",
       "      <th>3</th>\n",
       "      <td>2020-10-01</td>\n",
       "      <td>Morning</td>\n",
       "      <td>WA</td>\n",
       "      <td>Seniors</td>\n",
       "      <td>15</td>\n",
       "      <td>37500</td>\n",
       "    </tr>\n",
       "    <tr>\n",
       "      <th>4</th>\n",
       "      <td>2020-10-01</td>\n",
       "      <td>Afternoon</td>\n",
       "      <td>WA</td>\n",
       "      <td>Kids</td>\n",
       "      <td>3</td>\n",
       "      <td>7500</td>\n",
       "    </tr>\n",
       "    <tr>\n",
       "      <th>...</th>\n",
       "      <td>...</td>\n",
       "      <td>...</td>\n",
       "      <td>...</td>\n",
       "      <td>...</td>\n",
       "      <td>...</td>\n",
       "      <td>...</td>\n",
       "    </tr>\n",
       "    <tr>\n",
       "      <th>7555</th>\n",
       "      <td>2020-12-30</td>\n",
       "      <td>Afternoon</td>\n",
       "      <td>TAS</td>\n",
       "      <td>Seniors</td>\n",
       "      <td>14</td>\n",
       "      <td>35000</td>\n",
       "    </tr>\n",
       "    <tr>\n",
       "      <th>7556</th>\n",
       "      <td>2020-12-30</td>\n",
       "      <td>Evening</td>\n",
       "      <td>TAS</td>\n",
       "      <td>Kids</td>\n",
       "      <td>15</td>\n",
       "      <td>37500</td>\n",
       "    </tr>\n",
       "    <tr>\n",
       "      <th>7557</th>\n",
       "      <td>2020-12-30</td>\n",
       "      <td>Evening</td>\n",
       "      <td>TAS</td>\n",
       "      <td>Men</td>\n",
       "      <td>15</td>\n",
       "      <td>37500</td>\n",
       "    </tr>\n",
       "    <tr>\n",
       "      <th>7558</th>\n",
       "      <td>2020-12-30</td>\n",
       "      <td>Evening</td>\n",
       "      <td>TAS</td>\n",
       "      <td>Women</td>\n",
       "      <td>11</td>\n",
       "      <td>27500</td>\n",
       "    </tr>\n",
       "    <tr>\n",
       "      <th>7559</th>\n",
       "      <td>2020-12-30</td>\n",
       "      <td>Evening</td>\n",
       "      <td>TAS</td>\n",
       "      <td>Seniors</td>\n",
       "      <td>13</td>\n",
       "      <td>32500</td>\n",
       "    </tr>\n",
       "  </tbody>\n",
       "</table>\n",
       "<p>7560 rows × 6 columns</p>\n",
       "</div>"
      ],
      "text/plain": [
       "           Date        Time State     Group  Unit  Sales\n",
       "0    2020-10-01     Morning    WA      Kids     8  20000\n",
       "1    2020-10-01     Morning    WA       Men     8  20000\n",
       "2    2020-10-01     Morning    WA     Women     4  10000\n",
       "3    2020-10-01     Morning    WA   Seniors    15  37500\n",
       "4    2020-10-01   Afternoon    WA      Kids     3   7500\n",
       "...         ...         ...   ...       ...   ...    ...\n",
       "7555 2020-12-30   Afternoon   TAS   Seniors    14  35000\n",
       "7556 2020-12-30     Evening   TAS      Kids    15  37500\n",
       "7557 2020-12-30     Evening   TAS       Men    15  37500\n",
       "7558 2020-12-30     Evening   TAS     Women    11  27500\n",
       "7559 2020-12-30     Evening   TAS   Seniors    13  32500\n",
       "\n",
       "[7560 rows x 6 columns]"
      ]
     },
     "execution_count": 38,
     "metadata": {},
     "output_type": "execute_result"
    }
   ],
   "source": [
    "import pandas as pd\n",
    "import numpy as np\n",
    "import seaborn as sns\n",
    "%matplotlib inline\n",
    "import matplotlib.pyplot as plt\n",
    "df = pd.read_excel('Project.xlsx')\n",
    "df\n"
   ]
  },
  {
   "cell_type": "code",
   "execution_count": 39,
   "id": "e4e2ad46",
   "metadata": {},
   "outputs": [
    {
     "data": {
      "text/plain": [
       "0       0\n",
       "1       0\n",
       "2       0\n",
       "3       0\n",
       "4       0\n",
       "       ..\n",
       "7555    0\n",
       "7556    0\n",
       "7557    0\n",
       "7558    0\n",
       "7559    0\n",
       "Length: 7560, dtype: int64"
      ]
     },
     "execution_count": 39,
     "metadata": {},
     "output_type": "execute_result"
    }
   ],
   "source": [
    "df.isnull().sum(axis=1)"
   ]
  },
  {
   "cell_type": "code",
   "execution_count": 40,
   "id": "67db7577",
   "metadata": {},
   "outputs": [
    {
     "data": {
      "text/plain": [
       "Date     datetime64[ns]\n",
       "Time             object\n",
       "State            object\n",
       "Group            object\n",
       "Unit              int64\n",
       "Sales             int64\n",
       "dtype: object"
      ]
     },
     "execution_count": 40,
     "metadata": {},
     "output_type": "execute_result"
    }
   ],
   "source": [
    "df.dtypes"
   ]
  },
  {
   "cell_type": "code",
   "execution_count": 41,
   "id": "acd2df35",
   "metadata": {},
   "outputs": [],
   "source": [
    "cols =list(df.select_dtypes(np.object_).columns)"
   ]
  },
  {
   "cell_type": "code",
   "execution_count": 42,
   "id": "0877911e",
   "metadata": {},
   "outputs": [],
   "source": [
    "df[cols] = df[cols].astype('string')"
   ]
  },
  {
   "cell_type": "code",
   "execution_count": 43,
   "id": "f89924aa",
   "metadata": {},
   "outputs": [
    {
     "data": {
      "text/plain": [
       "Date     datetime64[ns]\n",
       "Time     string[python]\n",
       "State    string[python]\n",
       "Group    string[python]\n",
       "Unit              int64\n",
       "Sales             int64\n",
       "dtype: object"
      ]
     },
     "execution_count": 43,
     "metadata": {},
     "output_type": "execute_result"
    }
   ],
   "source": [
    "df.dtypes"
   ]
  },
  {
   "cell_type": "markdown",
   "id": "29c9e007",
   "metadata": {},
   "source": [
    "# Min max normalization on units and sales"
   ]
  },
  {
   "cell_type": "code",
   "execution_count": 44,
   "id": "e9ee1e02",
   "metadata": {},
   "outputs": [],
   "source": [
    "# df['Units'] = (df['Unit'] - df['Unit'].min() ) / (df['Unit'].max() - df['Unit'].min())\n",
    "# df['Units']"
   ]
  },
  {
   "cell_type": "code",
   "execution_count": 45,
   "id": "c53ffb86",
   "metadata": {},
   "outputs": [],
   "source": [
    "# df['Salesn'] = (df['Sales'] - df['Sales'].min() ) / (df['Sales'].max() - df['Sales'].min())\n",
    "# df['Salesn']"
   ]
  },
  {
   "cell_type": "code",
   "execution_count": 46,
   "id": "6f897066",
   "metadata": {},
   "outputs": [],
   "source": [
    "# df['Salesn'].describe()"
   ]
  },
  {
   "cell_type": "code",
   "execution_count": 47,
   "id": "7c241c89",
   "metadata": {},
   "outputs": [
    {
     "data": {
      "text/html": [
       "<div>\n",
       "<style scoped>\n",
       "    .dataframe tbody tr th:only-of-type {\n",
       "        vertical-align: middle;\n",
       "    }\n",
       "\n",
       "    .dataframe tbody tr th {\n",
       "        vertical-align: top;\n",
       "    }\n",
       "\n",
       "    .dataframe thead th {\n",
       "        text-align: right;\n",
       "    }\n",
       "</style>\n",
       "<table border=\"1\" class=\"dataframe\">\n",
       "  <thead>\n",
       "    <tr style=\"text-align: right;\">\n",
       "      <th></th>\n",
       "      <th>Date</th>\n",
       "      <th>Time</th>\n",
       "      <th>State</th>\n",
       "      <th>Group</th>\n",
       "      <th>Unit</th>\n",
       "      <th>Sales</th>\n",
       "    </tr>\n",
       "  </thead>\n",
       "  <tbody>\n",
       "    <tr>\n",
       "      <th>0</th>\n",
       "      <td>2020-10-01</td>\n",
       "      <td>Morning</td>\n",
       "      <td>WA</td>\n",
       "      <td>Kids</td>\n",
       "      <td>8</td>\n",
       "      <td>20000</td>\n",
       "    </tr>\n",
       "    <tr>\n",
       "      <th>1</th>\n",
       "      <td>2020-10-01</td>\n",
       "      <td>Morning</td>\n",
       "      <td>WA</td>\n",
       "      <td>Men</td>\n",
       "      <td>8</td>\n",
       "      <td>20000</td>\n",
       "    </tr>\n",
       "    <tr>\n",
       "      <th>2</th>\n",
       "      <td>2020-10-01</td>\n",
       "      <td>Morning</td>\n",
       "      <td>WA</td>\n",
       "      <td>Women</td>\n",
       "      <td>4</td>\n",
       "      <td>10000</td>\n",
       "    </tr>\n",
       "    <tr>\n",
       "      <th>3</th>\n",
       "      <td>2020-10-01</td>\n",
       "      <td>Morning</td>\n",
       "      <td>WA</td>\n",
       "      <td>Seniors</td>\n",
       "      <td>15</td>\n",
       "      <td>37500</td>\n",
       "    </tr>\n",
       "    <tr>\n",
       "      <th>4</th>\n",
       "      <td>2020-10-01</td>\n",
       "      <td>Afternoon</td>\n",
       "      <td>WA</td>\n",
       "      <td>Kids</td>\n",
       "      <td>3</td>\n",
       "      <td>7500</td>\n",
       "    </tr>\n",
       "    <tr>\n",
       "      <th>...</th>\n",
       "      <td>...</td>\n",
       "      <td>...</td>\n",
       "      <td>...</td>\n",
       "      <td>...</td>\n",
       "      <td>...</td>\n",
       "      <td>...</td>\n",
       "    </tr>\n",
       "    <tr>\n",
       "      <th>7555</th>\n",
       "      <td>2020-12-30</td>\n",
       "      <td>Afternoon</td>\n",
       "      <td>TAS</td>\n",
       "      <td>Seniors</td>\n",
       "      <td>14</td>\n",
       "      <td>35000</td>\n",
       "    </tr>\n",
       "    <tr>\n",
       "      <th>7556</th>\n",
       "      <td>2020-12-30</td>\n",
       "      <td>Evening</td>\n",
       "      <td>TAS</td>\n",
       "      <td>Kids</td>\n",
       "      <td>15</td>\n",
       "      <td>37500</td>\n",
       "    </tr>\n",
       "    <tr>\n",
       "      <th>7557</th>\n",
       "      <td>2020-12-30</td>\n",
       "      <td>Evening</td>\n",
       "      <td>TAS</td>\n",
       "      <td>Men</td>\n",
       "      <td>15</td>\n",
       "      <td>37500</td>\n",
       "    </tr>\n",
       "    <tr>\n",
       "      <th>7558</th>\n",
       "      <td>2020-12-30</td>\n",
       "      <td>Evening</td>\n",
       "      <td>TAS</td>\n",
       "      <td>Women</td>\n",
       "      <td>11</td>\n",
       "      <td>27500</td>\n",
       "    </tr>\n",
       "    <tr>\n",
       "      <th>7559</th>\n",
       "      <td>2020-12-30</td>\n",
       "      <td>Evening</td>\n",
       "      <td>TAS</td>\n",
       "      <td>Seniors</td>\n",
       "      <td>13</td>\n",
       "      <td>32500</td>\n",
       "    </tr>\n",
       "  </tbody>\n",
       "</table>\n",
       "<p>7560 rows × 6 columns</p>\n",
       "</div>"
      ],
      "text/plain": [
       "           Date        Time State     Group  Unit  Sales\n",
       "0    2020-10-01     Morning    WA      Kids     8  20000\n",
       "1    2020-10-01     Morning    WA       Men     8  20000\n",
       "2    2020-10-01     Morning    WA     Women     4  10000\n",
       "3    2020-10-01     Morning    WA   Seniors    15  37500\n",
       "4    2020-10-01   Afternoon    WA      Kids     3   7500\n",
       "...         ...         ...   ...       ...   ...    ...\n",
       "7555 2020-12-30   Afternoon   TAS   Seniors    14  35000\n",
       "7556 2020-12-30     Evening   TAS      Kids    15  37500\n",
       "7557 2020-12-30     Evening   TAS       Men    15  37500\n",
       "7558 2020-12-30     Evening   TAS     Women    11  27500\n",
       "7559 2020-12-30     Evening   TAS   Seniors    13  32500\n",
       "\n",
       "[7560 rows x 6 columns]"
      ]
     },
     "execution_count": 47,
     "metadata": {},
     "output_type": "execute_result"
    }
   ],
   "source": [
    "df"
   ]
  },
  {
   "cell_type": "code",
   "execution_count": 48,
   "id": "dee538d4",
   "metadata": {},
   "outputs": [
    {
     "data": {
      "text/plain": [
       "count     7560.00\n",
       "mean     45013.56\n",
       "std      32253.51\n",
       "min       5000.00\n",
       "25%      20000.00\n",
       "50%      35000.00\n",
       "75%      65000.00\n",
       "max     162500.00\n",
       "Name: Sales, dtype: float64"
      ]
     },
     "execution_count": 48,
     "metadata": {},
     "output_type": "execute_result"
    }
   ],
   "source": [
    "df['Sales'].describe()"
   ]
  },
  {
   "cell_type": "code",
   "execution_count": 49,
   "id": "c785cbd8",
   "metadata": {},
   "outputs": [
    {
     "data": {
      "text/plain": [
       "count   7560.00\n",
       "mean      18.01\n",
       "std       12.90\n",
       "min        2.00\n",
       "25%        8.00\n",
       "50%       14.00\n",
       "75%       26.00\n",
       "max       65.00\n",
       "Name: Unit, dtype: float64"
      ]
     },
     "execution_count": 49,
     "metadata": {},
     "output_type": "execute_result"
    }
   ],
   "source": [
    "df['Unit'].describe()"
   ]
  },
  {
   "cell_type": "code",
   "execution_count": 50,
   "id": "de1c04d7",
   "metadata": {},
   "outputs": [
    {
     "data": {
      "text/plain": [
       "count      7560\n",
       "unique        4\n",
       "top        Kids\n",
       "freq       1890\n",
       "Name: Group, dtype: object"
      ]
     },
     "execution_count": 50,
     "metadata": {},
     "output_type": "execute_result"
    }
   ],
   "source": [
    "df['Group'].describe()"
   ]
  },
  {
   "cell_type": "markdown",
   "id": "22850f2a",
   "metadata": {},
   "source": [
    "# Pivoting using pivot_table"
   ]
  },
  {
   "cell_type": "code",
   "execution_count": 51,
   "id": "4d35867e",
   "metadata": {},
   "outputs": [
    {
     "data": {
      "text/html": [
       "<div>\n",
       "<style scoped>\n",
       "    .dataframe tbody tr th:only-of-type {\n",
       "        vertical-align: middle;\n",
       "    }\n",
       "\n",
       "    .dataframe tbody tr th {\n",
       "        vertical-align: top;\n",
       "    }\n",
       "\n",
       "    .dataframe thead tr th {\n",
       "        text-align: left;\n",
       "    }\n",
       "\n",
       "    .dataframe thead tr:last-of-type th {\n",
       "        text-align: right;\n",
       "    }\n",
       "</style>\n",
       "<table border=\"1\" class=\"dataframe\">\n",
       "  <thead>\n",
       "    <tr>\n",
       "      <th></th>\n",
       "      <th colspan=\"4\" halign=\"left\">Sales</th>\n",
       "      <th colspan=\"4\" halign=\"left\">Unit</th>\n",
       "    </tr>\n",
       "    <tr>\n",
       "      <th>Group</th>\n",
       "      <th>Kids</th>\n",
       "      <th>Men</th>\n",
       "      <th>Seniors</th>\n",
       "      <th>Women</th>\n",
       "      <th>Kids</th>\n",
       "      <th>Men</th>\n",
       "      <th>Seniors</th>\n",
       "      <th>Women</th>\n",
       "    </tr>\n",
       "    <tr>\n",
       "      <th>State</th>\n",
       "      <th></th>\n",
       "      <th></th>\n",
       "      <th></th>\n",
       "      <th></th>\n",
       "      <th></th>\n",
       "      <th></th>\n",
       "      <th></th>\n",
       "      <th></th>\n",
       "    </tr>\n",
       "  </thead>\n",
       "  <tbody>\n",
       "    <tr>\n",
       "      <th>NSW</th>\n",
       "      <td>18587500</td>\n",
       "      <td>19022500</td>\n",
       "      <td>18187500</td>\n",
       "      <td>19172500</td>\n",
       "      <td>7435</td>\n",
       "      <td>7609</td>\n",
       "      <td>7275</td>\n",
       "      <td>7669</td>\n",
       "    </tr>\n",
       "    <tr>\n",
       "      <th>NT</th>\n",
       "      <td>5700000</td>\n",
       "      <td>5762500</td>\n",
       "      <td>5465000</td>\n",
       "      <td>5652500</td>\n",
       "      <td>2280</td>\n",
       "      <td>2305</td>\n",
       "      <td>2186</td>\n",
       "      <td>2261</td>\n",
       "    </tr>\n",
       "    <tr>\n",
       "      <th>QLD</th>\n",
       "      <td>8510000</td>\n",
       "      <td>8392500</td>\n",
       "      <td>8190000</td>\n",
       "      <td>8325000</td>\n",
       "      <td>3404</td>\n",
       "      <td>3357</td>\n",
       "      <td>3276</td>\n",
       "      <td>3330</td>\n",
       "    </tr>\n",
       "    <tr>\n",
       "      <th>SA</th>\n",
       "      <td>14515000</td>\n",
       "      <td>14655000</td>\n",
       "      <td>14717500</td>\n",
       "      <td>14970000</td>\n",
       "      <td>5806</td>\n",
       "      <td>5862</td>\n",
       "      <td>5887</td>\n",
       "      <td>5988</td>\n",
       "    </tr>\n",
       "    <tr>\n",
       "      <th>TAS</th>\n",
       "      <td>5775000</td>\n",
       "      <td>5757500</td>\n",
       "      <td>5650000</td>\n",
       "      <td>5577500</td>\n",
       "      <td>2310</td>\n",
       "      <td>2303</td>\n",
       "      <td>2260</td>\n",
       "      <td>2231</td>\n",
       "    </tr>\n",
       "    <tr>\n",
       "      <th>VIC</th>\n",
       "      <td>26360000</td>\n",
       "      <td>26407500</td>\n",
       "      <td>26315000</td>\n",
       "      <td>26482500</td>\n",
       "      <td>10544</td>\n",
       "      <td>10563</td>\n",
       "      <td>10526</td>\n",
       "      <td>10593</td>\n",
       "    </tr>\n",
       "    <tr>\n",
       "      <th>WA</th>\n",
       "      <td>5625000</td>\n",
       "      <td>5752500</td>\n",
       "      <td>5512500</td>\n",
       "      <td>5262500</td>\n",
       "      <td>2250</td>\n",
       "      <td>2301</td>\n",
       "      <td>2205</td>\n",
       "      <td>2105</td>\n",
       "    </tr>\n",
       "  </tbody>\n",
       "</table>\n",
       "</div>"
      ],
      "text/plain": [
       "          Sales                                  Unit                        \n",
       "Group   Kids      Men       Seniors   Women   Kids    Men     Seniors Women  \n",
       "State                                                                        \n",
       "NSW    18587500  19022500  18187500  19172500    7435    7609    7275    7669\n",
       "NT      5700000   5762500   5465000   5652500    2280    2305    2186    2261\n",
       "QLD     8510000   8392500   8190000   8325000    3404    3357    3276    3330\n",
       "SA     14515000  14655000  14717500  14970000    5806    5862    5887    5988\n",
       "TAS     5775000   5757500   5650000   5577500    2310    2303    2260    2231\n",
       "VIC    26360000  26407500  26315000  26482500   10544   10563   10526   10593\n",
       "WA      5625000   5752500   5512500   5262500    2250    2301    2205    2105"
      ]
     },
     "execution_count": 51,
     "metadata": {},
     "output_type": "execute_result"
    }
   ],
   "source": [
    "cols = ('Unit', 'Sales')\n",
    "df1= pd.pivot_table(df, values= cols, columns= ['Group'], index = ['State'], aggfunc = \"sum\" )\n",
    "df1"
   ]
  },
  {
   "cell_type": "code",
   "execution_count": 52,
   "id": "ed223cc8",
   "metadata": {},
   "outputs": [
    {
     "data": {
      "text/html": [
       "<div>\n",
       "<style scoped>\n",
       "    .dataframe tbody tr th:only-of-type {\n",
       "        vertical-align: middle;\n",
       "    }\n",
       "\n",
       "    .dataframe tbody tr th {\n",
       "        vertical-align: top;\n",
       "    }\n",
       "\n",
       "    .dataframe thead tr th {\n",
       "        text-align: left;\n",
       "    }\n",
       "\n",
       "    .dataframe thead tr:last-of-type th {\n",
       "        text-align: right;\n",
       "    }\n",
       "</style>\n",
       "<table border=\"1\" class=\"dataframe\">\n",
       "  <thead>\n",
       "    <tr>\n",
       "      <th></th>\n",
       "      <th colspan=\"7\" halign=\"left\">Sales</th>\n",
       "      <th colspan=\"7\" halign=\"left\">Unit</th>\n",
       "    </tr>\n",
       "    <tr>\n",
       "      <th>State</th>\n",
       "      <th>NSW</th>\n",
       "      <th>NT</th>\n",
       "      <th>QLD</th>\n",
       "      <th>SA</th>\n",
       "      <th>TAS</th>\n",
       "      <th>VIC</th>\n",
       "      <th>WA</th>\n",
       "      <th>NSW</th>\n",
       "      <th>NT</th>\n",
       "      <th>QLD</th>\n",
       "      <th>SA</th>\n",
       "      <th>TAS</th>\n",
       "      <th>VIC</th>\n",
       "      <th>WA</th>\n",
       "    </tr>\n",
       "    <tr>\n",
       "      <th>Group</th>\n",
       "      <th></th>\n",
       "      <th></th>\n",
       "      <th></th>\n",
       "      <th></th>\n",
       "      <th></th>\n",
       "      <th></th>\n",
       "      <th></th>\n",
       "      <th></th>\n",
       "      <th></th>\n",
       "      <th></th>\n",
       "      <th></th>\n",
       "      <th></th>\n",
       "      <th></th>\n",
       "      <th></th>\n",
       "    </tr>\n",
       "  </thead>\n",
       "  <tbody>\n",
       "    <tr>\n",
       "      <th>Kids</th>\n",
       "      <td>18587500</td>\n",
       "      <td>5700000</td>\n",
       "      <td>8510000</td>\n",
       "      <td>14515000</td>\n",
       "      <td>5775000</td>\n",
       "      <td>26360000</td>\n",
       "      <td>5625000</td>\n",
       "      <td>7435</td>\n",
       "      <td>2280</td>\n",
       "      <td>3404</td>\n",
       "      <td>5806</td>\n",
       "      <td>2310</td>\n",
       "      <td>10544</td>\n",
       "      <td>2250</td>\n",
       "    </tr>\n",
       "    <tr>\n",
       "      <th>Men</th>\n",
       "      <td>19022500</td>\n",
       "      <td>5762500</td>\n",
       "      <td>8392500</td>\n",
       "      <td>14655000</td>\n",
       "      <td>5757500</td>\n",
       "      <td>26407500</td>\n",
       "      <td>5752500</td>\n",
       "      <td>7609</td>\n",
       "      <td>2305</td>\n",
       "      <td>3357</td>\n",
       "      <td>5862</td>\n",
       "      <td>2303</td>\n",
       "      <td>10563</td>\n",
       "      <td>2301</td>\n",
       "    </tr>\n",
       "    <tr>\n",
       "      <th>Seniors</th>\n",
       "      <td>18187500</td>\n",
       "      <td>5465000</td>\n",
       "      <td>8190000</td>\n",
       "      <td>14717500</td>\n",
       "      <td>5650000</td>\n",
       "      <td>26315000</td>\n",
       "      <td>5512500</td>\n",
       "      <td>7275</td>\n",
       "      <td>2186</td>\n",
       "      <td>3276</td>\n",
       "      <td>5887</td>\n",
       "      <td>2260</td>\n",
       "      <td>10526</td>\n",
       "      <td>2205</td>\n",
       "    </tr>\n",
       "    <tr>\n",
       "      <th>Women</th>\n",
       "      <td>19172500</td>\n",
       "      <td>5652500</td>\n",
       "      <td>8325000</td>\n",
       "      <td>14970000</td>\n",
       "      <td>5577500</td>\n",
       "      <td>26482500</td>\n",
       "      <td>5262500</td>\n",
       "      <td>7669</td>\n",
       "      <td>2261</td>\n",
       "      <td>3330</td>\n",
       "      <td>5988</td>\n",
       "      <td>2231</td>\n",
       "      <td>10593</td>\n",
       "      <td>2105</td>\n",
       "    </tr>\n",
       "  </tbody>\n",
       "</table>\n",
       "</div>"
      ],
      "text/plain": [
       "            Sales                                                          \\\n",
       "State         NSW      NT       QLD       SA       TAS       VIC      WA    \n",
       "Group                                                                       \n",
       "Kids     18587500  5700000  8510000  14515000  5775000  26360000  5625000   \n",
       "Men      19022500  5762500  8392500  14655000  5757500  26407500  5752500   \n",
       "Seniors  18187500  5465000  8190000  14717500  5650000  26315000  5512500   \n",
       "Women    19172500  5652500  8325000  14970000  5577500  26482500  5262500   \n",
       "\n",
       "         Unit                                       \n",
       "State     NSW   NT    QLD   SA    TAS    VIC   WA   \n",
       "Group                                               \n",
       "Kids     7435  2280  3404  5806  2310  10544  2250  \n",
       "Men      7609  2305  3357  5862  2303  10563  2301  \n",
       "Seniors  7275  2186  3276  5887  2260  10526  2205  \n",
       "Women    7669  2261  3330  5988  2231  10593  2105  "
      ]
     },
     "execution_count": 52,
     "metadata": {},
     "output_type": "execute_result"
    }
   ],
   "source": [
    "cols = ('Unit', 'Sales')\n",
    "df2= pd.pivot_table(df, values= cols, columns= ['State'], index = ['Group'], aggfunc = \"sum\" )\n",
    "df2"
   ]
  },
  {
   "cell_type": "markdown",
   "id": "6ba9f95f",
   "metadata": {},
   "source": [
    "# Determining highest sales by states"
   ]
  },
  {
   "cell_type": "code",
   "execution_count": 53,
   "id": "051af84e",
   "metadata": {},
   "outputs": [
    {
     "data": {
      "text/html": [
       "<div>\n",
       "<style scoped>\n",
       "    .dataframe tbody tr th:only-of-type {\n",
       "        vertical-align: middle;\n",
       "    }\n",
       "\n",
       "    .dataframe tbody tr th {\n",
       "        vertical-align: top;\n",
       "    }\n",
       "\n",
       "    .dataframe thead th {\n",
       "        text-align: right;\n",
       "    }\n",
       "</style>\n",
       "<table border=\"1\" class=\"dataframe\">\n",
       "  <thead>\n",
       "    <tr style=\"text-align: right;\">\n",
       "      <th></th>\n",
       "      <th>Unit</th>\n",
       "      <th>Sales</th>\n",
       "    </tr>\n",
       "    <tr>\n",
       "      <th>State</th>\n",
       "      <th></th>\n",
       "      <th></th>\n",
       "    </tr>\n",
       "  </thead>\n",
       "  <tbody>\n",
       "    <tr>\n",
       "      <th>NSW</th>\n",
       "      <td>29988</td>\n",
       "      <td>74970000</td>\n",
       "    </tr>\n",
       "    <tr>\n",
       "      <th>NT</th>\n",
       "      <td>9032</td>\n",
       "      <td>22580000</td>\n",
       "    </tr>\n",
       "    <tr>\n",
       "      <th>QLD</th>\n",
       "      <td>13367</td>\n",
       "      <td>33417500</td>\n",
       "    </tr>\n",
       "    <tr>\n",
       "      <th>SA</th>\n",
       "      <td>23543</td>\n",
       "      <td>58857500</td>\n",
       "    </tr>\n",
       "    <tr>\n",
       "      <th>TAS</th>\n",
       "      <td>9104</td>\n",
       "      <td>22760000</td>\n",
       "    </tr>\n",
       "    <tr>\n",
       "      <th>VIC</th>\n",
       "      <td>42226</td>\n",
       "      <td>105565000</td>\n",
       "    </tr>\n",
       "    <tr>\n",
       "      <th>WA</th>\n",
       "      <td>8861</td>\n",
       "      <td>22152500</td>\n",
       "    </tr>\n",
       "  </tbody>\n",
       "</table>\n",
       "</div>"
      ],
      "text/plain": [
       "        Unit      Sales\n",
       "State                  \n",
       "NSW    29988   74970000\n",
       "NT      9032   22580000\n",
       "QLD    13367   33417500\n",
       "SA     23543   58857500\n",
       "TAS     9104   22760000\n",
       "VIC    42226  105565000\n",
       "WA      8861   22152500"
      ]
     },
     "execution_count": 53,
     "metadata": {},
     "output_type": "execute_result"
    }
   ],
   "source": [
    "df3= df.groupby('State').sum(numeric_only=True)\n",
    "df3"
   ]
  },
  {
   "cell_type": "code",
   "execution_count": 54,
   "id": "cf73d83c",
   "metadata": {},
   "outputs": [
    {
     "data": {
      "image/png": "[encoded data removed]",
      "text/plain": [
       "<Figure size 640x480 with 1 Axes>"
      ]
     },
     "metadata": {},
     "output_type": "display_data"
    }
   ],
   "source": [
    "# plt.gcf().axes[0].yaxis.get_major_formatter().set_scientific(False)\n",
    "plt.ticklabel_format(style='plain')\n",
    "Groups =df['Group'].unique()\n",
    "States =[State for State, df in df.groupby('State')]\n",
    "plt.bar(States, df3['Sales'])\n",
    "plt.xlabel('States')\n",
    "plt.ylabel('Sales')\n",
    "plt.show()"
   ]
  },
  {
   "cell_type": "markdown",
   "id": "641e5120",
   "metadata": {},
   "source": [
    "# Highest sales by group"
   ]
  },
  {
   "cell_type": "code",
   "execution_count": 55,
   "id": "f41334a1",
   "metadata": {},
   "outputs": [
    {
     "data": {
      "text/html": [
       "<div>\n",
       "<style scoped>\n",
       "    .dataframe tbody tr th:only-of-type {\n",
       "        vertical-align: middle;\n",
       "    }\n",
       "\n",
       "    .dataframe tbody tr th {\n",
       "        vertical-align: top;\n",
       "    }\n",
       "\n",
       "    .dataframe thead th {\n",
       "        text-align: right;\n",
       "    }\n",
       "</style>\n",
       "<table border=\"1\" class=\"dataframe\">\n",
       "  <thead>\n",
       "    <tr style=\"text-align: right;\">\n",
       "      <th></th>\n",
       "      <th>Unit</th>\n",
       "      <th>Sales</th>\n",
       "    </tr>\n",
       "    <tr>\n",
       "      <th>Group</th>\n",
       "      <th></th>\n",
       "      <th></th>\n",
       "    </tr>\n",
       "  </thead>\n",
       "  <tbody>\n",
       "    <tr>\n",
       "      <th>Kids</th>\n",
       "      <td>34029</td>\n",
       "      <td>85072500</td>\n",
       "    </tr>\n",
       "    <tr>\n",
       "      <th>Men</th>\n",
       "      <td>34300</td>\n",
       "      <td>85750000</td>\n",
       "    </tr>\n",
       "    <tr>\n",
       "      <th>Seniors</th>\n",
       "      <td>33615</td>\n",
       "      <td>84037500</td>\n",
       "    </tr>\n",
       "    <tr>\n",
       "      <th>Women</th>\n",
       "      <td>34177</td>\n",
       "      <td>85442500</td>\n",
       "    </tr>\n",
       "  </tbody>\n",
       "</table>\n",
       "</div>"
      ],
      "text/plain": [
       "          Unit     Sales\n",
       "Group                   \n",
       "Kids     34029  85072500\n",
       "Men      34300  85750000\n",
       "Seniors  33615  84037500\n",
       "Women    34177  85442500"
      ]
     },
     "execution_count": 55,
     "metadata": {},
     "output_type": "execute_result"
    }
   ],
   "source": [
    "df4= df.groupby('Group').sum(numeric_only=True)\n",
    "df4"
   ]
  },
  {
   "cell_type": "code",
   "execution_count": 56,
   "id": "5dce8472",
   "metadata": {},
   "outputs": [
    {
     "data": {
      "image/png": "[encoded data removed]",
      "text/plain": [
       "<Figure size 640x480 with 1 Axes>"
      ]
     },
     "metadata": {},
     "output_type": "display_data"
    }
   ],
   "source": [
    "plt.ticklabel_format(style='plain')\n",
    "Groups =df['Group'].unique()\n",
    "plt.bar(Groups, df4['Sales'])\n",
    "plt.xlabel('Group')\n",
    "plt.ylabel('Sales')\n",
    "plt.show()"
   ]
  },
  {
   "cell_type": "code",
   "execution_count": 57,
   "id": "365a2242",
   "metadata": {},
   "outputs": [],
   "source": [
    "# df3.plot(x='State', y= 'Sales', kind='bar');\n"
   ]
  },
  {
   "cell_type": "code",
   "execution_count": 58,
   "id": "f8f0f89f",
   "metadata": {},
   "outputs": [],
   "source": [
    "# Groups =df['Group'].unique()\n",
    "# States =df['State'].unique()\n",
    "\n",
    "\n",
    "\n",
    "# plt.plot(state,sales)\n",
    "# plt.plot(state,kids)\n",
    "# plt.plot(state,men)\n",
    "# plt.plot(state,women);"
   ]
  },
  {
   "cell_type": "code",
   "execution_count": 59,
   "id": "6a6bec39",
   "metadata": {},
   "outputs": [
    {
     "data": {
      "text/html": [
       "<div>\n",
       "<style scoped>\n",
       "    .dataframe tbody tr th:only-of-type {\n",
       "        vertical-align: middle;\n",
       "    }\n",
       "\n",
       "    .dataframe tbody tr th {\n",
       "        vertical-align: top;\n",
       "    }\n",
       "\n",
       "    .dataframe thead tr th {\n",
       "        text-align: left;\n",
       "    }\n",
       "\n",
       "    .dataframe thead tr:last-of-type th {\n",
       "        text-align: right;\n",
       "    }\n",
       "</style>\n",
       "<table border=\"1\" class=\"dataframe\">\n",
       "  <thead>\n",
       "    <tr>\n",
       "      <th></th>\n",
       "      <th colspan=\"7\" halign=\"left\">Sales</th>\n",
       "    </tr>\n",
       "    <tr>\n",
       "      <th>State</th>\n",
       "      <th>NSW</th>\n",
       "      <th>NT</th>\n",
       "      <th>QLD</th>\n",
       "      <th>SA</th>\n",
       "      <th>TAS</th>\n",
       "      <th>VIC</th>\n",
       "      <th>WA</th>\n",
       "    </tr>\n",
       "    <tr>\n",
       "      <th>Group</th>\n",
       "      <th></th>\n",
       "      <th></th>\n",
       "      <th></th>\n",
       "      <th></th>\n",
       "      <th></th>\n",
       "      <th></th>\n",
       "      <th></th>\n",
       "    </tr>\n",
       "  </thead>\n",
       "  <tbody>\n",
       "    <tr>\n",
       "      <th>Kids</th>\n",
       "      <td>18587500</td>\n",
       "      <td>5700000</td>\n",
       "      <td>8510000</td>\n",
       "      <td>14515000</td>\n",
       "      <td>5775000</td>\n",
       "      <td>26360000</td>\n",
       "      <td>5625000</td>\n",
       "    </tr>\n",
       "    <tr>\n",
       "      <th>Men</th>\n",
       "      <td>19022500</td>\n",
       "      <td>5762500</td>\n",
       "      <td>8392500</td>\n",
       "      <td>14655000</td>\n",
       "      <td>5757500</td>\n",
       "      <td>26407500</td>\n",
       "      <td>5752500</td>\n",
       "    </tr>\n",
       "    <tr>\n",
       "      <th>Seniors</th>\n",
       "      <td>18187500</td>\n",
       "      <td>5465000</td>\n",
       "      <td>8190000</td>\n",
       "      <td>14717500</td>\n",
       "      <td>5650000</td>\n",
       "      <td>26315000</td>\n",
       "      <td>5512500</td>\n",
       "    </tr>\n",
       "    <tr>\n",
       "      <th>Women</th>\n",
       "      <td>19172500</td>\n",
       "      <td>5652500</td>\n",
       "      <td>8325000</td>\n",
       "      <td>14970000</td>\n",
       "      <td>5577500</td>\n",
       "      <td>26482500</td>\n",
       "      <td>5262500</td>\n",
       "    </tr>\n",
       "  </tbody>\n",
       "</table>\n",
       "</div>"
      ],
      "text/plain": [
       "            Sales                                                        \n",
       "State         NSW      NT       QLD       SA       TAS       VIC      WA \n",
       "Group                                                                    \n",
       "Kids     18587500  5700000  8510000  14515000  5775000  26360000  5625000\n",
       "Men      19022500  5762500  8392500  14655000  5757500  26407500  5752500\n",
       "Seniors  18187500  5465000  8190000  14717500  5650000  26315000  5512500\n",
       "Women    19172500  5652500  8325000  14970000  5577500  26482500  5262500"
      ]
     },
     "execution_count": 59,
     "metadata": {},
     "output_type": "execute_result"
    }
   ],
   "source": [
    "\n",
    "df5= pd.pivot_table(df, values= ['Sales'], columns= ['State'], index = ['Group'], aggfunc = \"sum\" )\n",
    "df5"
   ]
  },
  {
   "cell_type": "code",
   "execution_count": 60,
   "id": "8ad9d3d5",
   "metadata": {},
   "outputs": [
    {
     "data": {
      "text/html": [
       "<div>\n",
       "<style scoped>\n",
       "    .dataframe tbody tr th:only-of-type {\n",
       "        vertical-align: middle;\n",
       "    }\n",
       "\n",
       "    .dataframe tbody tr th {\n",
       "        vertical-align: top;\n",
       "    }\n",
       "\n",
       "    .dataframe thead tr th {\n",
       "        text-align: left;\n",
       "    }\n",
       "\n",
       "    .dataframe thead tr:last-of-type th {\n",
       "        text-align: right;\n",
       "    }\n",
       "</style>\n",
       "<table border=\"1\" class=\"dataframe\">\n",
       "  <thead>\n",
       "    <tr>\n",
       "      <th></th>\n",
       "      <th colspan=\"4\" halign=\"left\">Sales</th>\n",
       "    </tr>\n",
       "    <tr>\n",
       "      <th>Group</th>\n",
       "      <th>Kids</th>\n",
       "      <th>Men</th>\n",
       "      <th>Seniors</th>\n",
       "      <th>Women</th>\n",
       "    </tr>\n",
       "    <tr>\n",
       "      <th>State</th>\n",
       "      <th></th>\n",
       "      <th></th>\n",
       "      <th></th>\n",
       "      <th></th>\n",
       "    </tr>\n",
       "  </thead>\n",
       "  <tbody>\n",
       "    <tr>\n",
       "      <th>NSW</th>\n",
       "      <td>18587500</td>\n",
       "      <td>19022500</td>\n",
       "      <td>18187500</td>\n",
       "      <td>19172500</td>\n",
       "    </tr>\n",
       "    <tr>\n",
       "      <th>NT</th>\n",
       "      <td>5700000</td>\n",
       "      <td>5762500</td>\n",
       "      <td>5465000</td>\n",
       "      <td>5652500</td>\n",
       "    </tr>\n",
       "    <tr>\n",
       "      <th>QLD</th>\n",
       "      <td>8510000</td>\n",
       "      <td>8392500</td>\n",
       "      <td>8190000</td>\n",
       "      <td>8325000</td>\n",
       "    </tr>\n",
       "    <tr>\n",
       "      <th>SA</th>\n",
       "      <td>14515000</td>\n",
       "      <td>14655000</td>\n",
       "      <td>14717500</td>\n",
       "      <td>14970000</td>\n",
       "    </tr>\n",
       "    <tr>\n",
       "      <th>TAS</th>\n",
       "      <td>5775000</td>\n",
       "      <td>5757500</td>\n",
       "      <td>5650000</td>\n",
       "      <td>5577500</td>\n",
       "    </tr>\n",
       "    <tr>\n",
       "      <th>VIC</th>\n",
       "      <td>26360000</td>\n",
       "      <td>26407500</td>\n",
       "      <td>26315000</td>\n",
       "      <td>26482500</td>\n",
       "    </tr>\n",
       "    <tr>\n",
       "      <th>WA</th>\n",
       "      <td>5625000</td>\n",
       "      <td>5752500</td>\n",
       "      <td>5512500</td>\n",
       "      <td>5262500</td>\n",
       "    </tr>\n",
       "  </tbody>\n",
       "</table>\n",
       "</div>"
      ],
      "text/plain": [
       "          Sales                              \n",
       "Group   Kids      Men       Seniors   Women  \n",
       "State                                        \n",
       "NSW    18587500  19022500  18187500  19172500\n",
       "NT      5700000   5762500   5465000   5652500\n",
       "QLD     8510000   8392500   8190000   8325000\n",
       "SA     14515000  14655000  14717500  14970000\n",
       "TAS     5775000   5757500   5650000   5577500\n",
       "VIC    26360000  26407500  26315000  26482500\n",
       "WA      5625000   5752500   5512500   5262500"
      ]
     },
     "execution_count": 60,
     "metadata": {},
     "output_type": "execute_result"
    }
   ],
   "source": [
    "df6= pd.pivot_table(df, values= ['Sales'], columns= ['Group'], index = ['State'], aggfunc = \"sum\" )\n",
    "df6"
   ]
  },
  {
   "cell_type": "code",
   "execution_count": 61,
   "id": "de5df818",
   "metadata": {},
   "outputs": [],
   "source": [
    "# plt.ticklabel_format(style='plain')\n",
    "# States =[State for State, df in df.groupby('State')]\n",
    "# Groups =df['Group'].unique()\n",
    "# plt.xlabel('States')\n",
    "# plt.ylabel('Sales')\n",
    "# plt.bar(States,df6['Sales'])\n",
    "# plt.show()"
   ]
  },
  {
   "cell_type": "code",
   "execution_count": 62,
   "id": "08fc1b1e",
   "metadata": {},
   "outputs": [
    {
     "data": {
      "text/plain": [
       "<Axes: xlabel='State', ylabel='Sales'>"
      ]
     },
     "execution_count": 62,
     "metadata": {},
     "output_type": "execute_result"
    },
    {
     "data": {
      "image/png": "[encoded data removed]",
      "text/plain": [
       "<Figure size 640x480 with 1 Axes>"
      ]
     },
     "metadata": {},
     "output_type": "display_data"
    }
   ],
   "source": [
    "sns.barplot(data=df, x='State', y='Sales', hue='Group')"
   ]
  },
  {
   "cell_type": "code",
   "execution_count": 63,
   "id": "76fc29f3",
   "metadata": {},
   "outputs": [
    {
     "data": {
      "text/plain": [
       "<Axes: xlabel='State'>"
      ]
     },
     "execution_count": 63,
     "metadata": {},
     "output_type": "execute_result"
    },
    {
     "data": {
      "image/png": "[encoded data removed]",
      "text/plain": [
       "<Figure size 640x480 with 1 Axes>"
      ]
     },
     "metadata": {},
     "output_type": "display_data"
    }
   ],
   "source": [
    "\n",
    "df6.plot(kind='bar')"
   ]
  },
  {
   "cell_type": "code",
   "execution_count": 64,
   "id": "9640fdc2",
   "metadata": {},
   "outputs": [
    {
     "data": {
      "text/html": [
       "<div>\n",
       "<style scoped>\n",
       "    .dataframe tbody tr th:only-of-type {\n",
       "        vertical-align: middle;\n",
       "    }\n",
       "\n",
       "    .dataframe tbody tr th {\n",
       "        vertical-align: top;\n",
       "    }\n",
       "\n",
       "    .dataframe thead tr th {\n",
       "        text-align: left;\n",
       "    }\n",
       "\n",
       "    .dataframe thead tr:last-of-type th {\n",
       "        text-align: right;\n",
       "    }\n",
       "</style>\n",
       "<table border=\"1\" class=\"dataframe\">\n",
       "  <thead>\n",
       "    <tr>\n",
       "      <th></th>\n",
       "      <th colspan=\"7\" halign=\"left\">Sales</th>\n",
       "    </tr>\n",
       "    <tr>\n",
       "      <th>State</th>\n",
       "      <th>NSW</th>\n",
       "      <th>NT</th>\n",
       "      <th>QLD</th>\n",
       "      <th>SA</th>\n",
       "      <th>TAS</th>\n",
       "      <th>VIC</th>\n",
       "      <th>WA</th>\n",
       "    </tr>\n",
       "    <tr>\n",
       "      <th>Group</th>\n",
       "      <th></th>\n",
       "      <th></th>\n",
       "      <th></th>\n",
       "      <th></th>\n",
       "      <th></th>\n",
       "      <th></th>\n",
       "      <th></th>\n",
       "    </tr>\n",
       "  </thead>\n",
       "  <tbody>\n",
       "    <tr>\n",
       "      <th>Kids</th>\n",
       "      <td>18587500</td>\n",
       "      <td>5700000</td>\n",
       "      <td>8510000</td>\n",
       "      <td>14515000</td>\n",
       "      <td>5775000</td>\n",
       "      <td>26360000</td>\n",
       "      <td>5625000</td>\n",
       "    </tr>\n",
       "    <tr>\n",
       "      <th>Men</th>\n",
       "      <td>19022500</td>\n",
       "      <td>5762500</td>\n",
       "      <td>8392500</td>\n",
       "      <td>14655000</td>\n",
       "      <td>5757500</td>\n",
       "      <td>26407500</td>\n",
       "      <td>5752500</td>\n",
       "    </tr>\n",
       "    <tr>\n",
       "      <th>Seniors</th>\n",
       "      <td>18187500</td>\n",
       "      <td>5465000</td>\n",
       "      <td>8190000</td>\n",
       "      <td>14717500</td>\n",
       "      <td>5650000</td>\n",
       "      <td>26315000</td>\n",
       "      <td>5512500</td>\n",
       "    </tr>\n",
       "    <tr>\n",
       "      <th>Women</th>\n",
       "      <td>19172500</td>\n",
       "      <td>5652500</td>\n",
       "      <td>8325000</td>\n",
       "      <td>14970000</td>\n",
       "      <td>5577500</td>\n",
       "      <td>26482500</td>\n",
       "      <td>5262500</td>\n",
       "    </tr>\n",
       "  </tbody>\n",
       "</table>\n",
       "</div>"
      ],
      "text/plain": [
       "            Sales                                                        \n",
       "State         NSW      NT       QLD       SA       TAS       VIC      WA \n",
       "Group                                                                    \n",
       "Kids     18587500  5700000  8510000  14515000  5775000  26360000  5625000\n",
       "Men      19022500  5762500  8392500  14655000  5757500  26407500  5752500\n",
       "Seniors  18187500  5465000  8190000  14717500  5650000  26315000  5512500\n",
       "Women    19172500  5652500  8325000  14970000  5577500  26482500  5262500"
      ]
     },
     "execution_count": 64,
     "metadata": {},
     "output_type": "execute_result"
    }
   ],
   "source": [
    "df7= pd.pivot_table(df, values= ['Sales'], columns= ['State'], index = ['Group'], aggfunc = \"sum\" )\n",
    "df7"
   ]
  },
  {
   "cell_type": "code",
   "execution_count": 65,
   "id": "bd344e9f",
   "metadata": {},
   "outputs": [
    {
     "data": {
      "text/plain": [
       "<Axes: xlabel='Group'>"
      ]
     },
     "execution_count": 65,
     "metadata": {},
     "output_type": "execute_result"
    },
    {
     "data": {
      "image/png": "[encoded data removed]",
      "text/plain": [
       "<Figure size 640x480 with 1 Axes>"
      ]
     },
     "metadata": {},
     "output_type": "display_data"
    }
   ],
   "source": [
    "pd.options.display.float_format = '{:.2f}'.format\n",
    "\n",
    "df7.plot(kind= 'bar')\n",
    "\n"
   ]
  },
  {
   "cell_type": "code",
   "execution_count": 66,
   "id": "e5b8b5d7",
   "metadata": {},
   "outputs": [
    {
     "data": {
      "text/plain": [
       "<Axes: xlabel='Group', ylabel='Sales'>"
      ]
     },
     "execution_count": 66,
     "metadata": {},
     "output_type": "execute_result"
    },
    {
     "data": {
      "image/png": "[encoded data removed]",
      "text/plain": [
       "<Figure size 640x480 with 1 Axes>"
      ]
     },
     "metadata": {},
     "output_type": "display_data"
    }
   ],
   "source": [
    "sns.barplot(data=df, x='Group', y='Sales', hue='State')"
   ]
  },
  {
   "cell_type": "markdown",
   "id": "b711647d",
   "metadata": {},
   "source": [
    "# Highest sales w.r.t time"
   ]
  },
  {
   "cell_type": "code",
   "execution_count": 67,
   "id": "bf061bd9",
   "metadata": {},
   "outputs": [
    {
     "data": {
      "text/html": [
       "<div>\n",
       "<style scoped>\n",
       "    .dataframe tbody tr th:only-of-type {\n",
       "        vertical-align: middle;\n",
       "    }\n",
       "\n",
       "    .dataframe tbody tr th {\n",
       "        vertical-align: top;\n",
       "    }\n",
       "\n",
       "    .dataframe thead th {\n",
       "        text-align: right;\n",
       "    }\n",
       "</style>\n",
       "<table border=\"1\" class=\"dataframe\">\n",
       "  <thead>\n",
       "    <tr style=\"text-align: right;\">\n",
       "      <th></th>\n",
       "      <th>Unit</th>\n",
       "      <th>Sales</th>\n",
       "    </tr>\n",
       "    <tr>\n",
       "      <th>Time</th>\n",
       "      <th></th>\n",
       "      <th></th>\n",
       "    </tr>\n",
       "  </thead>\n",
       "  <tbody>\n",
       "    <tr>\n",
       "      <th>Afternoon</th>\n",
       "      <td>45603</td>\n",
       "      <td>114007500</td>\n",
       "    </tr>\n",
       "    <tr>\n",
       "      <th>Evening</th>\n",
       "      <td>44835</td>\n",
       "      <td>112087500</td>\n",
       "    </tr>\n",
       "    <tr>\n",
       "      <th>Morning</th>\n",
       "      <td>45683</td>\n",
       "      <td>114207500</td>\n",
       "    </tr>\n",
       "  </tbody>\n",
       "</table>\n",
       "</div>"
      ],
      "text/plain": [
       "            Unit      Sales\n",
       "Time                       \n",
       "Afternoon  45603  114007500\n",
       "Evening    44835  112087500\n",
       "Morning    45683  114207500"
      ]
     },
     "execution_count": 67,
     "metadata": {},
     "output_type": "execute_result"
    }
   ],
   "source": [
    "df7= df.groupby('Time').sum(numeric_only=True)\n",
    "df7"
   ]
  },
  {
   "cell_type": "code",
   "execution_count": 68,
   "id": "b410f7ba",
   "metadata": {},
   "outputs": [
    {
     "data": {
      "image/png": "[encoded data removed]",
      "text/plain": [
       "<Figure size 640x480 with 1 Axes>"
      ]
     },
     "metadata": {},
     "output_type": "display_data"
    }
   ],
   "source": [
    "#Mornings had highest sales followed by afternoon and evening time had the least sales.\n",
    "plt.ticklabel_format(style='plain')\n",
    "Time =[Time for Time, df in df.groupby('Time')]\n",
    "plt.bar(Time, df7['Sales'])\n",
    "plt.xlabel('Time')\n",
    "plt.ylabel('Sales')\n",
    "plt.show()\n",
    "#So the best time to Advertise will be morning."
   ]
  },
  {
   "cell_type": "code",
   "execution_count": 69,
   "id": "4628b289",
   "metadata": {},
   "outputs": [
    {
     "data": {
      "text/html": [
       "<div>\n",
       "<style scoped>\n",
       "    .dataframe tbody tr th:only-of-type {\n",
       "        vertical-align: middle;\n",
       "    }\n",
       "\n",
       "    .dataframe tbody tr th {\n",
       "        vertical-align: top;\n",
       "    }\n",
       "\n",
       "    .dataframe thead th {\n",
       "        text-align: right;\n",
       "    }\n",
       "</style>\n",
       "<table border=\"1\" class=\"dataframe\">\n",
       "  <thead>\n",
       "    <tr style=\"text-align: right;\">\n",
       "      <th></th>\n",
       "      <th>Unit</th>\n",
       "      <th>Sales</th>\n",
       "    </tr>\n",
       "    <tr>\n",
       "      <th>Date</th>\n",
       "      <th></th>\n",
       "      <th></th>\n",
       "    </tr>\n",
       "  </thead>\n",
       "  <tbody>\n",
       "    <tr>\n",
       "      <th>2020-10-01</th>\n",
       "      <td>45716</td>\n",
       "      <td>114290000</td>\n",
       "    </tr>\n",
       "    <tr>\n",
       "      <th>2020-11-01</th>\n",
       "      <td>36273</td>\n",
       "      <td>90682500</td>\n",
       "    </tr>\n",
       "    <tr>\n",
       "      <th>2020-12-01</th>\n",
       "      <td>54132</td>\n",
       "      <td>135330000</td>\n",
       "    </tr>\n",
       "  </tbody>\n",
       "</table>\n",
       "</div>"
      ],
      "text/plain": [
       "             Unit      Sales\n",
       "Date                        \n",
       "2020-10-01  45716  114290000\n",
       "2020-11-01  36273   90682500\n",
       "2020-12-01  54132  135330000"
      ]
     },
     "execution_count": 69,
     "metadata": {},
     "output_type": "execute_result"
    }
   ],
   "source": [
    "df.Date = pd.to_datetime(df.Date)\n",
    "df.set_index('Date', inplace=True)\n",
    "df.resample('MS').sum(numeric_only = True)"
   ]
  },
  {
   "cell_type": "code",
   "execution_count": 70,
   "id": "868e3937",
   "metadata": {},
   "outputs": [
    {
     "data": {
      "text/html": [
       "<div>\n",
       "<style scoped>\n",
       "    .dataframe tbody tr th:only-of-type {\n",
       "        vertical-align: middle;\n",
       "    }\n",
       "\n",
       "    .dataframe tbody tr th {\n",
       "        vertical-align: top;\n",
       "    }\n",
       "\n",
       "    .dataframe thead th {\n",
       "        text-align: right;\n",
       "    }\n",
       "</style>\n",
       "<table border=\"1\" class=\"dataframe\">\n",
       "  <thead>\n",
       "    <tr style=\"text-align: right;\">\n",
       "      <th></th>\n",
       "      <th>Unit</th>\n",
       "      <th>Sales</th>\n",
       "    </tr>\n",
       "    <tr>\n",
       "      <th>Date</th>\n",
       "      <th></th>\n",
       "      <th></th>\n",
       "    </tr>\n",
       "  </thead>\n",
       "  <tbody>\n",
       "    <tr>\n",
       "      <th>2020-10-01</th>\n",
       "      <td>136121</td>\n",
       "      <td>340302500</td>\n",
       "    </tr>\n",
       "  </tbody>\n",
       "</table>\n",
       "</div>"
      ],
      "text/plain": [
       "              Unit      Sales\n",
       "Date                         \n",
       "2020-10-01  136121  340302500"
      ]
     },
     "execution_count": 70,
     "metadata": {},
     "output_type": "execute_result"
    }
   ],
   "source": [
    "df.resample('QS').sum(numeric_only = True)"
   ]
  },
  {
   "cell_type": "code",
   "execution_count": 73,
   "id": "3e90e574",
   "metadata": {},
   "outputs": [
    {
     "data": {
      "text/html": [
       "<div>\n",
       "<style scoped>\n",
       "    .dataframe tbody tr th:only-of-type {\n",
       "        vertical-align: middle;\n",
       "    }\n",
       "\n",
       "    .dataframe tbody tr th {\n",
       "        vertical-align: top;\n",
       "    }\n",
       "\n",
       "    .dataframe thead th {\n",
       "        text-align: right;\n",
       "    }\n",
       "</style>\n",
       "<table border=\"1\" class=\"dataframe\">\n",
       "  <thead>\n",
       "    <tr style=\"text-align: right;\">\n",
       "      <th></th>\n",
       "      <th>Unit</th>\n",
       "      <th>Sales</th>\n",
       "    </tr>\n",
       "    <tr>\n",
       "      <th>Date</th>\n",
       "      <th></th>\n",
       "      <th></th>\n",
       "    </tr>\n",
       "  </thead>\n",
       "  <tbody>\n",
       "    <tr>\n",
       "      <th>2020-10-04</th>\n",
       "      <td>6018</td>\n",
       "      <td>15045000</td>\n",
       "    </tr>\n",
       "    <tr>\n",
       "      <th>2020-10-11</th>\n",
       "      <td>10801</td>\n",
       "      <td>27002500</td>\n",
       "    </tr>\n",
       "    <tr>\n",
       "      <th>2020-10-18</th>\n",
       "      <td>10656</td>\n",
       "      <td>26640000</td>\n",
       "    </tr>\n",
       "    <tr>\n",
       "      <th>2020-10-25</th>\n",
       "      <td>10726</td>\n",
       "      <td>26815000</td>\n",
       "    </tr>\n",
       "    <tr>\n",
       "      <th>2020-11-01</th>\n",
       "      <td>8723</td>\n",
       "      <td>21807500</td>\n",
       "    </tr>\n",
       "    <tr>\n",
       "      <th>2020-11-08</th>\n",
       "      <td>8346</td>\n",
       "      <td>20865000</td>\n",
       "    </tr>\n",
       "    <tr>\n",
       "      <th>2020-11-15</th>\n",
       "      <td>8469</td>\n",
       "      <td>21172500</td>\n",
       "    </tr>\n",
       "    <tr>\n",
       "      <th>2020-11-22</th>\n",
       "      <td>8445</td>\n",
       "      <td>21112500</td>\n",
       "    </tr>\n",
       "    <tr>\n",
       "      <th>2020-11-29</th>\n",
       "      <td>8591</td>\n",
       "      <td>21477500</td>\n",
       "    </tr>\n",
       "    <tr>\n",
       "      <th>2020-12-06</th>\n",
       "      <td>11849</td>\n",
       "      <td>29622500</td>\n",
       "    </tr>\n",
       "    <tr>\n",
       "      <th>2020-12-13</th>\n",
       "      <td>12610</td>\n",
       "      <td>31525000</td>\n",
       "    </tr>\n",
       "    <tr>\n",
       "      <th>2020-12-20</th>\n",
       "      <td>12662</td>\n",
       "      <td>31655000</td>\n",
       "    </tr>\n",
       "    <tr>\n",
       "      <th>2020-12-27</th>\n",
       "      <td>12708</td>\n",
       "      <td>31770000</td>\n",
       "    </tr>\n",
       "    <tr>\n",
       "      <th>2021-01-03</th>\n",
       "      <td>5517</td>\n",
       "      <td>13792500</td>\n",
       "    </tr>\n",
       "  </tbody>\n",
       "</table>\n",
       "</div>"
      ],
      "text/plain": [
       "             Unit     Sales\n",
       "Date                       \n",
       "2020-10-04   6018  15045000\n",
       "2020-10-11  10801  27002500\n",
       "2020-10-18  10656  26640000\n",
       "2020-10-25  10726  26815000\n",
       "2020-11-01   8723  21807500\n",
       "2020-11-08   8346  20865000\n",
       "2020-11-15   8469  21172500\n",
       "2020-11-22   8445  21112500\n",
       "2020-11-29   8591  21477500\n",
       "2020-12-06  11849  29622500\n",
       "2020-12-13  12610  31525000\n",
       "2020-12-20  12662  31655000\n",
       "2020-12-27  12708  31770000\n",
       "2021-01-03   5517  13792500"
      ]
     },
     "execution_count": 73,
     "metadata": {},
     "output_type": "execute_result"
    }
   ],
   "source": [
    "df.resample('W').sum(numeric_only = True)"
   ]
  },
  {
   "cell_type": "code",
   "execution_count": null,
   "id": "f6b21643",
   "metadata": {},
   "outputs": [],
   "source": []
  }
 ],
 "metadata": {
  "kernelspec": {
   "display_name": "Python 3 (ipykernel)",
   "language": "python",
   "name": "python3"
  },
  "language_info": {
   "codemirror_mode": {
    "name": "ipython",
    "version": 3
   },
   "file_extension": ".py",
   "mimetype": "text/x-python",
   "name": "python",
   "nbconvert_exporter": "python",
   "pygments_lexer": "ipython3",
   "version": "3.11.5"
  }
 },
 "nbformat": 4,
 "nbformat_minor": 5
}
